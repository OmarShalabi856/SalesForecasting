{
 "cells": [
  {
   "cell_type": "markdown",
   "id": "ea219c96",
   "metadata": {},
   "source": [
    "# Data Preprocessing & Building The Model"
   ]
  },
  {
   "cell_type": "code",
   "execution_count": 2,
   "id": "1afc8aea",
   "metadata": {},
   "outputs": [],
   "source": [
    "import pandas as pd\n",
    "from sklearn.model_selection import train_test_split\n",
    "import numpy as np\n",
    "from sklearn.preprocessing import MinMaxScaler\n",
    "from tensorflow.keras.models import Sequential\n",
    "from statsmodels.tsa.seasonal import STL\n",
    "from tensorflow.keras.layers import Dense,LSTM,Input,Concatenate,Dropout\n",
    "from tensorflow.keras.callbacks import ModelCheckpoint\n",
    "from tensorflow.keras.losses import MeanSquaredError\n",
    "import tensorflow as tf\n",
    "from sklearn.preprocessing import StandardScaler"
   ]
  },
  {
   "cell_type": "code",
   "execution_count": 325,
   "id": "dcd012b3",
   "metadata": {},
   "outputs": [
    {
     "name": "stderr",
     "output_type": "stream",
     "text": [
      "C:\\Users\\LENOVO\\AppData\\Local\\Temp\\ipykernel_9148\\795958931.py:1: DtypeWarning: Columns (0,1) have mixed types. Specify dtype option on import or set low_memory=False.\n",
      "  df=pd.read_csv(r'C:\\Users\\LENOVO\\Desktop\\Bakery sales.csv')\n"
     ]
    }
   ],
   "source": [
    "df=pd.read_csv(r'C:\\Users\\LENOVO\\Desktop\\Bakery sales.csv')"
   ]
  },
  {
   "cell_type": "code",
   "execution_count": 326,
   "id": "e0220062",
   "metadata": {},
   "outputs": [],
   "source": [
    "def onehot_encode(df, column):\n",
    "    df = df.copy()\n",
    "    df = df.groupby(['Date', 'Product', 'Price'])['Quantity'].sum()\n",
    "    df = df.reset_index()\n",
    "    dummies = pd.get_dummies(df[column], prefix='')\n",
    "    df = pd.concat([df, dummies], axis=1)\n",
    "    df = df.drop(column, axis=1)\n",
    "    product_mapping = pd.DataFrame({'product': dummies.columns, 'product_index': range(len(dummies.columns))})\n",
    "    product_mapping.to_csv(r'C:\\Users\\LENOVO\\Desktop\\product_mapping.csv', index=False)\n",
    "    \n",
    "    return df\n"
   ]
  },
  {
   "cell_type": "code",
   "execution_count": 327,
   "id": "462dba85",
   "metadata": {},
   "outputs": [],
   "source": [
    "df=onehot_encode(df,'Product')"
   ]
  },
  {
   "cell_type": "code",
   "execution_count": 328,
   "id": "6c05085e",
   "metadata": {},
   "outputs": [],
   "source": [
    "def preprocess(df):\n",
    "    df=df.copy()\n",
    "    df['Date']=pd.to_datetime(df['Date'])\n",
    "    df['year']=df['Date'].dt.year\n",
    "    df['day']=df['Date'].dt.day\n",
    "    df['month']=df['Date'].dt.month\n",
    "    df.drop(columns=['Date'],inplace=True)\n",
    "    return df"
   ]
  },
  {
   "cell_type": "code",
   "execution_count": 329,
   "id": "8353d13a",
   "metadata": {},
   "outputs": [],
   "source": [
    "df=preprocess(df)"
   ]
  },
  {
   "cell_type": "code",
   "execution_count": 334,
   "id": "adb5705d",
   "metadata": {},
   "outputs": [],
   "source": [
    "def apply_standard_scaler(df):\n",
    "    cols_to_scale = [col for col in df.columns if col != \"Quantity\"]\n",
    "    df=df[cols_to_scale].to_numpy()\n",
    "    scaler = StandardScaler()\n",
    "    df= scaler.fit_transform(df)\n",
    "    with open(r\"C:\\Users\\LENOVO\\Desktop\\Scaker.pkl\", \"wb\") as f:\n",
    "        pickle.dump(scaler, f)\n",
    "    \n",
    "    return df"
   ]
  },
  {
   "cell_type": "code",
   "execution_count": 335,
   "id": "aa5ffed5",
   "metadata": {},
   "outputs": [
    {
     "data": {
      "text/plain": [
       "array([[-0.64612818, -0.01285564, -0.03728198, ..., -0.87646331,\n",
       "        -0.67708838, -1.6630717 ],\n",
       "       [-0.5074752 , -0.01285564, -0.03728198, ..., -0.87646331,\n",
       "        -0.67708838, -1.6630717 ],\n",
       "       [-0.59413331, -0.01285564, -0.03728198, ..., -0.87646331,\n",
       "        -0.67708838, -1.6630717 ],\n",
       "       ...,\n",
       "       [ 0.25511616, -0.01285564, -0.03728198, ...,  1.14094908,\n",
       "        -0.79079888,  0.97177235],\n",
       "       [-0.5074752 , -0.01285564, -0.03728198, ...,  1.14094908,\n",
       "        -0.79079888,  0.97177235],\n",
       "       [-0.02218979, -0.01285564, -0.03728198, ...,  1.14094908,\n",
       "        -0.79079888,  0.97177235]])"
      ]
     },
     "execution_count": 335,
     "metadata": {},
     "output_type": "execute_result"
    }
   ],
   "source": [
    "scaled_df = apply_standard_scaler(df)\n",
    "scaled_df"
   ]
  },
  {
   "cell_type": "code",
   "execution_count": 273,
   "id": "090be2a3",
   "metadata": {},
   "outputs": [],
   "source": [
    "X=scaled_df.drop(columns=['Quantity'])\n",
    "y=scaled_df['Quantity']"
   ]
  },
  {
   "cell_type": "code",
   "execution_count": 274,
   "id": "31aa8968",
   "metadata": {},
   "outputs": [],
   "source": [
    "from sklearn.model_selection import train_test_split\n",
    "X_train_full, X_test, y_train_full, y_test = train_test_split(X, y, test_size=0.2, random_state=42)\n",
    "X_train, X_val, y_train, y_val = train_test_split(X_train_full, y_train_full, test_size=0.2, random_state=42)"
   ]
  },
  {
   "cell_type": "code",
   "execution_count": 275,
   "id": "cc7dab2e",
   "metadata": {},
   "outputs": [],
   "source": [
    "model = Sequential()"
   ]
  },
  {
   "cell_type": "code",
   "execution_count": 276,
   "id": "a2543067",
   "metadata": {},
   "outputs": [],
   "source": [
    "from tensorflow.keras.models import Sequential\n",
    "from tensorflow.keras.layers import Input, Dense\n",
    "from tensorflow.keras.callbacks import EarlyStopping, ModelCheckpoint\n",
    "\n",
    "model = Sequential()\n",
    "model.add(Input((153,)))\n",
    "model.add(Dense(1024, activation='relu'))\n",
    "model.add(Dense(512, activation='relu'))\n",
    "model.add(Dense(32, activation='relu'))\n",
    "model.add(Dense(16, activation='relu'))\n",
    "model.add(Dense(1, activation='relu'))\n",
    "\n",
    "model.compile(loss='mse', optimizer='adam', metrics=['mae'])\n",
    "es = EarlyStopping(monitor='val_loss', patience=5, verbose=1)\n",
    "mc = ModelCheckpoint(r'C:\\Users\\LENOVO\\Desktop\\SalesForecastModel\\best_model.h5', monitor='val_mae', mode='min', save_best_only=True)\n"
   ]
  },
  {
   "cell_type": "code",
   "execution_count": 277,
   "id": "f583e7df",
   "metadata": {},
   "outputs": [
    {
     "name": "stdout",
     "output_type": "stream",
     "text": [
      "Epoch 1/100\n",
      "606/606 [==============================] - 12s 18ms/step - loss: 429.6600 - mae: 6.2660 - val_loss: 320.1612 - val_mae: 5.4706\n",
      "Epoch 2/100\n",
      "606/606 [==============================] - 10s 17ms/step - loss: 323.1827 - mae: 5.5030 - val_loss: 334.4818 - val_mae: 5.5063\n",
      "Epoch 3/100\n",
      "606/606 [==============================] - 10s 17ms/step - loss: 302.2151 - mae: 5.3207 - val_loss: 316.6090 - val_mae: 5.4767\n",
      "Epoch 4/100\n",
      "606/606 [==============================] - 10s 17ms/step - loss: 284.1058 - mae: 5.0852 - val_loss: 271.1682 - val_mae: 4.9176\n",
      "Epoch 5/100\n",
      "606/606 [==============================] - 10s 17ms/step - loss: 266.0034 - mae: 4.9376 - val_loss: 262.5542 - val_mae: 4.9855\n",
      "Epoch 6/100\n",
      "606/606 [==============================] - 11s 18ms/step - loss: 271.5858 - mae: 4.9851 - val_loss: 233.0727 - val_mae: 4.8071\n",
      "Epoch 7/100\n",
      "606/606 [==============================] - 11s 17ms/step - loss: 228.3220 - mae: 4.7113 - val_loss: 223.1884 - val_mae: 4.4937\n",
      "Epoch 8/100\n",
      "606/606 [==============================] - 11s 17ms/step - loss: 229.4906 - mae: 4.6756 - val_loss: 203.4977 - val_mae: 4.5140\n",
      "Epoch 9/100\n",
      "606/606 [==============================] - 11s 17ms/step - loss: 202.5776 - mae: 4.5222 - val_loss: 196.8553 - val_mae: 4.5020\n",
      "Epoch 10/100\n",
      "606/606 [==============================] - 11s 18ms/step - loss: 211.3122 - mae: 4.5865 - val_loss: 209.5577 - val_mae: 4.5549\n",
      "Epoch 11/100\n",
      "606/606 [==============================] - 11s 18ms/step - loss: 201.3558 - mae: 4.5284 - val_loss: 210.8431 - val_mae: 4.3839\n",
      "Epoch 12/100\n",
      "606/606 [==============================] - 11s 18ms/step - loss: 209.1849 - mae: 4.5010 - val_loss: 205.7425 - val_mae: 4.4639\n",
      "Epoch 13/100\n",
      "606/606 [==============================] - 11s 18ms/step - loss: 196.3822 - mae: 4.5095 - val_loss: 214.2523 - val_mae: 4.4922\n",
      "Epoch 14/100\n",
      "606/606 [==============================] - 11s 18ms/step - loss: 177.1359 - mae: 4.3399 - val_loss: 213.6881 - val_mae: 4.7567\n",
      "Epoch 14: early stopping\n"
     ]
    },
    {
     "data": {
      "text/plain": [
       "<keras.callbacks.History at 0x1b483a69c10>"
      ]
     },
     "execution_count": 277,
     "metadata": {},
     "output_type": "execute_result"
    }
   ],
   "source": [
    "model.fit(X_train,y_train,validation_data=(X_val,y_val),epochs=100,callbacks=[es,mc])"
   ]
  },
  {
   "cell_type": "markdown",
   "id": "6b9b0dce",
   "metadata": {},
   "source": [
    "# Using The Model"
   ]
  },
  {
   "cell_type": "code",
   "execution_count": 3,
   "id": "ba556175",
   "metadata": {},
   "outputs": [],
   "source": [
    "from tensorflow.keras.models import load_model\n",
    "import pickle\n",
    "\n",
    "product_mapping = pd.read_csv(r'C:\\Users\\LENOVO\\Desktop\\product_mapping.csv')\n",
    "model = load_model(r'C:\\Users\\LENOVO\\Desktop\\SalesForecastModel\\best_model.h5')\n",
    "\n",
    "def predict(price, product_name, year, day, month):\n",
    "    product_name = \"_\" + product_name\n",
    "    product_index = product_mapping.loc[product_mapping['product'] == product_name, 'product_index'].iloc[0]\n",
    "    product_vector = np.zeros(len(product_mapping))\n",
    "    product_vector[product_index] = 1\n",
    "    features = [price] + product_vector.tolist() + [year, day, month]\n",
    "    features = np.array(features).reshape(1, -1)\n",
    "    with open(r\"C:\\Users\\LENOVO\\Desktop\\Scaker.pkl\",'rb') as f:\n",
    "        scaler = pickle.load(f)\n",
    "    features_scaled = scaler.transform(features)\n",
    "    y = model.predict(features_scaled)\n",
    "    print(y)\n"
   ]
  },
  {
   "cell_type": "code",
   "execution_count": 24,
   "id": "bd42f68c",
   "metadata": {},
   "outputs": [
    {
     "name": "stdout",
     "output_type": "stream",
     "text": [
      "1/1 [==============================] - 0s 19ms/step\n",
      "[[4.4670506]]\n"
     ]
    }
   ],
   "source": [
    "# product_name=input(\"Enter Product Name: \")\n",
    "# year=input(\"Enter Year of Prediction: \")\n",
    "# month=input(\"Enter Month of Prediction: \")\n",
    "# day=input(\"Enter Day of Prediction: \")\n",
    "# price=input(\"Enter the price of the unit: \")\n",
    "predict(2.1,'Moisson',year=2022,month=3,day=8)"
   ]
  },
  {
   "cell_type": "code",
   "execution_count": 9,
   "id": "a950d79b",
   "metadata": {},
   "outputs": [
    {
     "name": "stderr",
     "output_type": "stream",
     "text": [
      "C:\\Users\\LENOVO\\AppData\\Local\\Temp\\ipykernel_10684\\3729809089.py:1: DtypeWarning: Columns (0,1) have mixed types. Specify dtype option on import or set low_memory=False.\n",
      "  dataframe=pd.read_csv(r'C:\\Users\\LENOVO\\Desktop\\Bakery sales.csv')\n"
     ]
    }
   ],
   "source": [
    "dataframe=pd.read_csv(r'C:\\Users\\LENOVO\\Desktop\\Bakery sales.csv')"
   ]
  },
  {
   "cell_type": "code",
   "execution_count": 10,
   "id": "63da0edd",
   "metadata": {},
   "outputs": [],
   "source": [
    "dataframe=dataframe.groupby(['Date','Product','Price'])['Quantity'].sum().reset_index()"
   ]
  },
  {
   "cell_type": "code",
   "execution_count": 22,
   "id": "6d953f69",
   "metadata": {},
   "outputs": [
    {
     "data": {
      "text/html": [
       "<div>\n",
       "<style scoped>\n",
       "    .dataframe tbody tr th:only-of-type {\n",
       "        vertical-align: middle;\n",
       "    }\n",
       "\n",
       "    .dataframe tbody tr th {\n",
       "        vertical-align: top;\n",
       "    }\n",
       "\n",
       "    .dataframe thead th {\n",
       "        text-align: right;\n",
       "    }\n",
       "</style>\n",
       "<table border=\"1\" class=\"dataframe\">\n",
       "  <thead>\n",
       "    <tr style=\"text-align: right;\">\n",
       "      <th></th>\n",
       "      <th>Date</th>\n",
       "      <th>Product</th>\n",
       "      <th>Price</th>\n",
       "      <th>Quantity</th>\n",
       "    </tr>\n",
       "  </thead>\n",
       "  <tbody>\n",
       "    <tr>\n",
       "      <th>19720</th>\n",
       "      <td>6/4/2022</td>\n",
       "      <td>Financier</td>\n",
       "      <td>0.7</td>\n",
       "      <td>0.0</td>\n",
       "    </tr>\n",
       "    <tr>\n",
       "      <th>12745</th>\n",
       "      <td>4/20/2022</td>\n",
       "      <td>Traiteur</td>\n",
       "      <td>14.0</td>\n",
       "      <td>0.0</td>\n",
       "    </tr>\n",
       "    <tr>\n",
       "      <th>15464</th>\n",
       "      <td>5/2/2022</td>\n",
       "      <td>Baguette Apero</td>\n",
       "      <td>4.5</td>\n",
       "      <td>0.0</td>\n",
       "    </tr>\n",
       "    <tr>\n",
       "      <th>8893</th>\n",
       "      <td>3/11/2021</td>\n",
       "      <td>Triangles</td>\n",
       "      <td>2.5</td>\n",
       "      <td>0.0</td>\n",
       "    </tr>\n",
       "    <tr>\n",
       "      <th>18592</th>\n",
       "      <td>6/20/2022</td>\n",
       "      <td>Plat 7.60E</td>\n",
       "      <td>7.6</td>\n",
       "      <td>0.0</td>\n",
       "    </tr>\n",
       "    <tr>\n",
       "      <th>...</th>\n",
       "      <td>...</td>\n",
       "      <td>...</td>\n",
       "      <td>...</td>\n",
       "      <td>...</td>\n",
       "    </tr>\n",
       "    <tr>\n",
       "      <th>9323</th>\n",
       "      <td>3/16/2021</td>\n",
       "      <td>Croissant Amandes</td>\n",
       "      <td>1.4</td>\n",
       "      <td>6.0</td>\n",
       "    </tr>\n",
       "    <tr>\n",
       "      <th>9311</th>\n",
       "      <td>3/16/2021</td>\n",
       "      <td>Boule 200G</td>\n",
       "      <td>1.1</td>\n",
       "      <td>6.0</td>\n",
       "    </tr>\n",
       "    <tr>\n",
       "      <th>9309</th>\n",
       "      <td>3/16/2021</td>\n",
       "      <td>Banettine</td>\n",
       "      <td>0.6</td>\n",
       "      <td>6.0</td>\n",
       "    </tr>\n",
       "    <tr>\n",
       "      <th>11259</th>\n",
       "      <td>3/8/2022</td>\n",
       "      <td>Croissant Amandes</td>\n",
       "      <td>1.5</td>\n",
       "      <td>6.0</td>\n",
       "    </tr>\n",
       "    <tr>\n",
       "      <th>11266</th>\n",
       "      <td>3/8/2022</td>\n",
       "      <td>Moisson</td>\n",
       "      <td>2.1</td>\n",
       "      <td>6.0</td>\n",
       "    </tr>\n",
       "  </tbody>\n",
       "</table>\n",
       "<p>20000 rows × 4 columns</p>\n",
       "</div>"
      ],
      "text/plain": [
       "            Date            Product  Price  Quantity\n",
       "19720   6/4/2022          Financier    0.7       0.0\n",
       "12745  4/20/2022           Traiteur   14.0       0.0\n",
       "15464   5/2/2022     Baguette Apero    4.5       0.0\n",
       "8893   3/11/2021          Triangles    2.5       0.0\n",
       "18592  6/20/2022         Plat 7.60E    7.6       0.0\n",
       "...          ...                ...    ...       ...\n",
       "9323   3/16/2021  Croissant Amandes    1.4       6.0\n",
       "9311   3/16/2021         Boule 200G    1.1       6.0\n",
       "9309   3/16/2021          Banettine    0.6       6.0\n",
       "11259   3/8/2022  Croissant Amandes    1.5       6.0\n",
       "11266   3/8/2022            Moisson    2.1       6.0\n",
       "\n",
       "[20000 rows x 4 columns]"
      ]
     },
     "execution_count": 22,
     "metadata": {},
     "output_type": "execute_result"
    }
   ],
   "source": [
    "dataframe.sort_values(by='Quantity',ascending=True)[:20000]"
   ]
  },
  {
   "cell_type": "code",
   "execution_count": null,
   "id": "54778dbb",
   "metadata": {},
   "outputs": [],
   "source": []
  }
 ],
 "metadata": {
  "kernelspec": {
   "display_name": "Python 3 (ipykernel)",
   "language": "python",
   "name": "python3"
  },
  "language_info": {
   "codemirror_mode": {
    "name": "ipython",
    "version": 3
   },
   "file_extension": ".py",
   "mimetype": "text/x-python",
   "name": "python",
   "nbconvert_exporter": "python",
   "pygments_lexer": "ipython3",
   "version": "3.11.3"
  }
 },
 "nbformat": 4,
 "nbformat_minor": 5
}
